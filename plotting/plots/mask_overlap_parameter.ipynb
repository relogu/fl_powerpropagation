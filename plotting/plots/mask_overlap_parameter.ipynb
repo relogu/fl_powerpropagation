{
 "cells": [
  {
   "cell_type": "code",
   "execution_count": null,
   "metadata": {},
   "outputs": [],
   "source": [
    "import pickle\n",
    "import glob\n",
    "import torch\n",
    "import numpy as np\n",
    "import matplotlib.pyplot as plt\n",
    "import seaborn as sns\n",
    "import concurrent.futures"
   ]
  },
  {
   "cell_type": "code",
   "execution_count": null,
   "metadata": {},
   "outputs": [],
   "source": [
    "# Define the directory containing the .bin files\n",
    "directory_path = (\n",
    "    \"/home/zep/fl_powerpropagation/outputs/2024-06-11/18-26-01/results/parameters\"\n",
    ")\n",
    "\n",
    "# Get a list of all .bin files\n",
    "bin_files = sorted(glob.glob(f\"{directory_path}/parameters*.bin\"))\n",
    "# remove first element of bin_files\n",
    "bin_files.pop(0)\n",
    "\n",
    "\n",
    "# Function to read binary file\n",
    "def load_binary_file(filepath):\n",
    "    with open(filepath, \"rb\") as f:\n",
    "        data = np.fromfile(\n",
    "            f, dtype=np.float32\n",
    "        )  # Assuming the weights are stored as float32\n",
    "    return data\n",
    "\n",
    "\n",
    "# Load the model parameters from binary files\n",
    "masks = []\n",
    "i = 0\n",
    "for file in bin_files:\n",
    "    try:\n",
    "        model_state = load_binary_file(file)\n",
    "        mask = [param != 0 for param in model_state]\n",
    "        masks.append(mask)\n",
    "        print(f\"Loaded {i}\")\n",
    "        i += 1\n",
    "    except Exception as e:\n",
    "        print(f\"Error loading {file}: {e}\")\n",
    "    if i > 10:\n",
    "        break"
   ]
  },
  {
   "cell_type": "code",
   "execution_count": null,
   "metadata": {},
   "outputs": [],
   "source": [
    "# Convert model parameters to binary masks\n",
    "# def create_mask(model_state):\n",
    "#     return model_state != 0\n",
    "# masks = [create_mask(model_state) for model_state in models]\n",
    "\n",
    "masks = [[np.array(layer_mask) for layer_mask in mask] for mask in masks]"
   ]
  },
  {
   "cell_type": "code",
   "execution_count": null,
   "metadata": {},
   "outputs": [],
   "source": [
    "# # Function to compute overlap percentage between two masks\n",
    "# def compute_overlap_percentage(mask1, mask2):\n",
    "#     # total_weights = np.sum([np.sum(m1) for m1 in mask1])  # Total number of weights\n",
    "#     n_mask1 = np.sum([np.sum(m1) for m1 in mask1])  # count number of weight for each mask\n",
    "#     n_mask2 = np.sum([np.sum(m2) for m2 in mask2])\n",
    "#     overlap_weights = np.sum([np.sum(m1 & m2) for m1, m2 in zip(mask1, mask2)])  # Overlapping weights\n",
    "#     return 100 - (overlap_weights / max(n_mask1, n_mask2)) * 100  # Percentage of overlap\n",
    "\n",
    "# # Compute overlap percentage matrix\n",
    "# num_masks = len(masks)\n",
    "# overlap_matrix = np.zeros((num_masks, num_masks))\n",
    "\n",
    "# for i in range(num_masks):\n",
    "#     for j in range(num_masks):\n",
    "#         overlap_matrix[i, j] = compute_overlap_percentage(masks[i], masks[j])"
   ]
  },
  {
   "cell_type": "code",
   "execution_count": null,
   "metadata": {},
   "outputs": [],
   "source": [
    "# Function to compute overlap percentage between two masks\n",
    "def compute_overlap_percentage(mask1, mask2):\n",
    "    n_mask1 = np.sum([\n",
    "        np.sum(m1) for m1 in mask1\n",
    "    ])  # count number of weight for each mask\n",
    "    n_mask2 = np.sum([np.sum(m2) for m2 in mask2])\n",
    "    overlap_weights = np.sum([\n",
    "        np.sum(m1 & m2) for m1, m2 in zip(mask1, mask2)\n",
    "    ])  # Overlapping weights\n",
    "    return (\n",
    "        100 - (overlap_weights / max(n_mask1, n_mask2)) * 100\n",
    "    )  # Percentage of overlap\n",
    "\n",
    "\n",
    "# Compute overlap percentage matrix\n",
    "num_masks = len(masks)\n",
    "overlap_matrix = np.zeros((num_masks, num_masks))\n",
    "\n",
    "\n",
    "def compute_overlap(i, j):\n",
    "    overlap_matrix[i, j] = compute_overlap_percentage(masks[i], masks[j])\n",
    "\n",
    "\n",
    "# Use multi-threading to parallelize the computation\n",
    "with concurrent.futures.ThreadPoolExecutor() as executor:\n",
    "    futures = []\n",
    "    for i in range(num_masks):\n",
    "        for j in range(num_masks):\n",
    "            futures.append(executor.submit(compute_overlap, i, j))\n",
    "\n",
    "    # Wait for all computations to complete\n",
    "    concurrent.futures.wait(futures)"
   ]
  },
  {
   "cell_type": "code",
   "execution_count": null,
   "metadata": {},
   "outputs": [],
   "source": [
    "# Plot heatmap\n",
    "plt.figure(figsize=(12, 10))\n",
    "sns.heatmap(\n",
    "    overlap_matrix,\n",
    "    annot=False,\n",
    "    fmt=\".2f\",\n",
    "    cmap=\"viridis\",\n",
    "    xticklabels=range(num_masks),\n",
    "    yticklabels=range(num_masks),\n",
    ")\n",
    "plt.xlabel(\"Round\")\n",
    "plt.ylabel(\"Round\")\n",
    "plt.title(\"Overlap Percentage Heatmap Between Rounds\")\n",
    "plt.tight_layout()\n",
    "plt.show()"
   ]
  }
 ],
 "metadata": {
  "kernelspec": {
   "display_name": "project-a6kP9-Cp-py3.11",
   "language": "python",
   "name": "python3"
  },
  "language_info": {
   "codemirror_mode": {
    "name": "ipython",
    "version": 3
   },
   "file_extension": ".py",
   "mimetype": "text/x-python",
   "name": "python",
   "nbconvert_exporter": "python",
   "pygments_lexer": "ipython3",
   "version": "3.11.6"
  }
 },
 "nbformat": 4,
 "nbformat_minor": 2
}
